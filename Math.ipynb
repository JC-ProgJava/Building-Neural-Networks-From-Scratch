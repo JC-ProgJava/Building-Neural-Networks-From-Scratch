{
  "nbformat": 4,
  "nbformat_minor": 0,
  "metadata": {
    "colab": {
      "name": "Math",
      "provenance": [],
      "collapsed_sections": [
        "m6qETD_gY6Ga",
        "wL7XDzzhbeKC",
        "pliUpySGbhsl",
        "TUSpJOrwcSKY",
        "X7TqNsL6csur",
        "7eSWoR4OdGEb",
        "-OUKs1DagUSP",
        "1YaUiiiokc-2",
        "bAo0cy3Fg8aE"
      ],
      "authorship_tag": "ABX9TyOLutiu0NisVRtk5/O+Qia0",
      "include_colab_link": true
    },
    "kernelspec": {
      "name": "python3",
      "display_name": "Python 3"
    },
    "language_info": {
      "name": "python"
    }
  },
  "cells": [
    {
      "cell_type": "markdown",
      "metadata": {
        "id": "view-in-github",
        "colab_type": "text"
      },
      "source": [
        "<a href=\"https://colab.research.google.com/github/JC-ProgJava/Building-Neural-Networks-From-Scratch/blob/main/Math.ipynb\" target=\"_parent\"><img src=\"https://colab.research.google.com/assets/colab-badge.svg\" alt=\"Open In Colab\"/></a>"
      ]
    },
    {
      "cell_type": "code",
      "source": [
        "import math"
      ],
      "metadata": {
        "id": "02nyyETib385"
      },
      "execution_count": 16,
      "outputs": []
    },
    {
      "cell_type": "markdown",
      "source": [
        "## Formulas"
      ],
      "metadata": {
        "id": "86weYPE1X_Kp"
      }
    },
    {
      "cell_type": "markdown",
      "source": [
        "### Quadratic"
      ],
      "metadata": {
        "id": "Xj7f9K5OYy_S"
      }
    },
    {
      "cell_type": "markdown",
      "source": [
        "$a^2 - b^2 = (a + b)(a - b)$"
      ],
      "metadata": {
        "id": "idvAy8d7Y1VM"
      }
    },
    {
      "cell_type": "markdown",
      "source": [
        "$(a + b)^2 = a^2 + b^2 + 2ab$"
      ],
      "metadata": {
        "id": "vXJ2_c6XY2qw"
      }
    },
    {
      "cell_type": "markdown",
      "source": [
        "$(a - b)^2 = a^2 + b^2 - 2ab$"
      ],
      "metadata": {
        "id": "rQEFg6SuY81Q"
      }
    },
    {
      "cell_type": "markdown",
      "source": [
        "$(a + b + c)^2 = a^2 + b^2 + c^2 + 2ab + 2bc + 2ac$"
      ],
      "metadata": {
        "id": "MnipYFlkZtFy"
      }
    },
    {
      "cell_type": "markdown",
      "source": [
        "$(a + b - c)^2 = a^2 + b^2 + c^2 + 2ab - 2bc - 2ac$"
      ],
      "metadata": {
        "id": "KXHEaFYVZ0RQ"
      }
    },
    {
      "cell_type": "markdown",
      "source": [
        "$(a - b + c)^2 = a^2 + b^2 + c^2 - 2ab - 2bc + 2ac$"
      ],
      "metadata": {
        "id": "FdH0RILjZ8nd"
      }
    },
    {
      "cell_type": "markdown",
      "source": [
        "$(-a + b + c)^2 = (a - b - c)^2 = a^2 + b^2 + c^2 - 2ab + 2bc - 2ac$"
      ],
      "metadata": {
        "id": "ceapbVeLaDqm"
      }
    },
    {
      "cell_type": "markdown",
      "source": [
        "Given $ax^2 + bx + c$, its solutions are $\\displaystyle{{-b ± \\sqrt{b^2 - 4ac}}\\over{2a}}$."
      ],
      "metadata": {
        "id": "PSaj46inqGTn"
      }
    },
    {
      "cell_type": "code",
      "source": [
        "a = 4\n",
        "b = 3\n",
        "c = 2\n",
        "\n",
        "vertexX = -b/(2 * a)\n",
        "vertexY = a * (vertexX ** 2) + b * vertexX + c\n",
        "print(\"Vertex: (\", vertexX, \", \", vertexY, \")\")\n",
        "\n",
        "discrim = b**2 - 4 * a * c\n",
        "\n",
        "if (discrim < 0):\n",
        "  print(\"No real solutions.\")\n",
        "else:\n",
        "  r1 = -b + math.sqrt(discrim)\n",
        "  r1 /= 2 * a\n",
        "\n",
        "  r2 = -b - math.sqrt(discrim)\n",
        "  r2 /= 2 * a\n",
        "\n",
        "  print(\"Solutions: \", r1, \" and \", r2)"
      ],
      "metadata": {
        "colab": {
          "base_uri": "https://localhost:8080/"
        },
        "id": "S_gbdEacqVcG",
        "outputId": "1cdfa90d-9a54-4f21-838b-eeef983a8b74"
      },
      "execution_count": 31,
      "outputs": [
        {
          "output_type": "stream",
          "name": "stdout",
          "text": [
            "Vertex: ( -0.375 ,  1.4375 )\n",
            "No real solutions.\n"
          ]
        }
      ]
    },
    {
      "cell_type": "markdown",
      "source": [
        "### Cubic"
      ],
      "metadata": {
        "id": "m6qETD_gY6Ga"
      }
    },
    {
      "cell_type": "markdown",
      "source": [
        "$a^3 + b^3 = (a + b)(a^2 - ab + b^2)$"
      ],
      "metadata": {
        "id": "HGFhkEWRY_f3"
      }
    },
    {
      "cell_type": "markdown",
      "source": [
        "$a^3 - b^3 = (a - b)(a^2 + ab + b^2)$"
      ],
      "metadata": {
        "id": "BmeLitO2ZANU"
      }
    },
    {
      "cell_type": "markdown",
      "source": [
        "$(a+b)^3 = a^3 + b^3 + 3ab(a + b)$"
      ],
      "metadata": {
        "id": "9qfYSq7vahp2"
      }
    },
    {
      "cell_type": "markdown",
      "source": [
        "$(a-b)^3 = a^3 - b^3 - 3ab(a - b)$"
      ],
      "metadata": {
        "id": "vOd3gSllaoky"
      }
    },
    {
      "cell_type": "markdown",
      "source": [
        "$\\displaystyle a^3 + b^3 + c^3 -3abc = (a + b + c) (a^2 + b^2 + c^2 - ab-bc-ac) = {{1}\\over{2}}(a + b + c)[(a-b)^2+(b-c)^2+(a-c)^2]$"
      ],
      "metadata": {
        "id": "6npALvXYa1Go"
      }
    },
    {
      "cell_type": "markdown",
      "source": [
        "$\\text{if}\\ \\ a + b + c = 0\\ \\ \\text{then}\\ \\ a^3 + b^3 + c^3 = 3abc$"
      ],
      "metadata": {
        "id": "BeAKe4hNbJAI"
      }
    },
    {
      "cell_type": "markdown",
      "source": [
        "### Geometry"
      ],
      "metadata": {
        "id": "wL7XDzzhbeKC"
      }
    },
    {
      "cell_type": "markdown",
      "source": [
        "#### Circle"
      ],
      "metadata": {
        "id": "pliUpySGbhsl"
      }
    },
    {
      "cell_type": "markdown",
      "source": [
        "Area: $πr^2$\n",
        "\n",
        "Circumference: $2πr$"
      ],
      "metadata": {
        "id": "3A--YE6hbmIq"
      }
    },
    {
      "cell_type": "code",
      "source": [
        "r = 0\n",
        "print(\"Area: \", math.pi * r * r)\n",
        "print(\"Circumference: \", math.pi * 2 * r)"
      ],
      "metadata": {
        "colab": {
          "base_uri": "https://localhost:8080/"
        },
        "id": "YROe632ibfN5",
        "outputId": "3a945244-a813-4151-b438-b793ba342826"
      },
      "execution_count": 17,
      "outputs": [
        {
          "output_type": "stream",
          "name": "stdout",
          "text": [
            "Area:  0.0\n",
            "Circumference:  0.0\n"
          ]
        }
      ]
    },
    {
      "cell_type": "markdown",
      "source": [
        "#### Parallelogram/Rectangle"
      ],
      "metadata": {
        "id": "TUSpJOrwcSKY"
      }
    },
    {
      "cell_type": "markdown",
      "source": [
        "Area: $bh$"
      ],
      "metadata": {
        "id": "ATFEyRTqcWY1"
      }
    },
    {
      "cell_type": "code",
      "source": [
        "b = 0\n",
        "h = 0\n",
        "print(\"Area: \", b * h)"
      ],
      "metadata": {
        "colab": {
          "base_uri": "https://localhost:8080/"
        },
        "id": "sIWS12zVcVtl",
        "outputId": "0699ab93-ba6d-47b7-b1bf-615f7b54c1ae"
      },
      "execution_count": 18,
      "outputs": [
        {
          "output_type": "stream",
          "name": "stdout",
          "text": [
            "Area:  0\n"
          ]
        }
      ]
    },
    {
      "cell_type": "markdown",
      "source": [
        "#### Trapezoid"
      ],
      "metadata": {
        "id": "X7TqNsL6csur"
      }
    },
    {
      "cell_type": "markdown",
      "source": [
        "Area: $\\displaystyle{(a\\ +\\ b)\\,h}\\over{\\displaystyle 2}$"
      ],
      "metadata": {
        "id": "ovy-TVR_cvq_"
      }
    },
    {
      "cell_type": "code",
      "source": [
        "a = 0\n",
        "b = 0\n",
        "h = 0\n",
        "\n",
        "print(\"Area: \", (a + b) * h * 0.5)"
      ],
      "metadata": {
        "colab": {
          "base_uri": "https://localhost:8080/"
        },
        "id": "kNPved2zcuIr",
        "outputId": "d91aaba8-cfb6-43c2-dddc-1612b93e33ca"
      },
      "execution_count": 19,
      "outputs": [
        {
          "output_type": "stream",
          "name": "stdout",
          "text": [
            "Area:  0.0\n"
          ]
        }
      ]
    },
    {
      "cell_type": "markdown",
      "source": [
        "#### Triangle"
      ],
      "metadata": {
        "id": "7eSWoR4OdGEb"
      }
    },
    {
      "cell_type": "markdown",
      "source": [
        "Area: $\\sqrt{s(s - a)(s - b)(s - c)}\\ \\text{where}\\ \\displaystyle s={{a\\ +\\ b\\ +\\ c}\\over{2}}$"
      ],
      "metadata": {
        "id": "D717EFtbdH_H"
      }
    },
    {
      "cell_type": "code",
      "source": [
        "# Three side lengths\n",
        "a = 0\n",
        "b = 0\n",
        "c = 0\n",
        "\n",
        "print(\"Area: \", (a + b + c) * 0.5)"
      ],
      "metadata": {
        "colab": {
          "base_uri": "https://localhost:8080/"
        },
        "id": "wJ4427hmdHH3",
        "outputId": "0979d1fe-d664-41cc-c73b-87df9339b3af"
      },
      "execution_count": 20,
      "outputs": [
        {
          "output_type": "stream",
          "name": "stdout",
          "text": [
            "Area:  0.0\n"
          ]
        }
      ]
    },
    {
      "cell_type": "markdown",
      "source": [
        "![triangle_abc_with_incircle_and_inradius.png](data:image/png;base64,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)"
      ],
      "metadata": {
        "id": "2eM0BwF4f3F8"
      }
    },
    {
      "cell_type": "markdown",
      "source": [
        "$Area: s\\cdot r$"
      ],
      "metadata": {
        "id": "Lwrlv_JIfe6C"
      }
    },
    {
      "cell_type": "code",
      "source": [
        "# s: semiperimeter\n",
        "# r: radius of incircle\n",
        "\n",
        "s = 0\n",
        "r = 0\n",
        "\n",
        "print(\"Area: \", s * r)"
      ],
      "metadata": {
        "id": "akf48auYfsH_"
      },
      "execution_count": null,
      "outputs": []
    },
    {
      "cell_type": "markdown",
      "source": [
        "##### **Equilateral Triangle**"
      ],
      "metadata": {
        "id": "-OUKs1DagUSP"
      }
    },
    {
      "cell_type": "markdown",
      "source": [
        "Area: $\\displaystyle{{\\sqrt{3}}\\over{4}}s^2$"
      ],
      "metadata": {
        "id": "nJA15yJjgbMx"
      }
    },
    {
      "cell_type": "code",
      "source": [
        "# s: side length\n",
        "s = 0\n",
        "print(\"Area: \", s**2 * (math.sqrt(s) / 4.0))"
      ],
      "metadata": {
        "colab": {
          "base_uri": "https://localhost:8080/"
        },
        "id": "XvSllptlglfk",
        "outputId": "50c7acf6-e291-4bcf-8f0d-1bf5f8e34713"
      },
      "execution_count": 25,
      "outputs": [
        {
          "output_type": "stream",
          "name": "stdout",
          "text": [
            "Area:  0.0\n"
          ]
        }
      ]
    },
    {
      "cell_type": "markdown",
      "source": [
        "### Number Theory"
      ],
      "metadata": {
        "id": "cZ1Bh7OZgEMv"
      }
    },
    {
      "cell_type": "markdown",
      "source": [
        "$a \\equiv b \\;\\;(\\mathrm{mod}\\; n)$ means $a \\;\\mathrm{mod}\\; n \\equiv b$.\n",
        "\n",
        "Given a prime $p$, $a^p \\equiv a\\;(\\mathrm{mod}\\;p)$\n",
        "\n",
        "Number of a certain factor $n$ in $k!$ is $\\displaystyle\\sum_{i\\,=\\,1}^{∞}{\\lfloor{{{k}\\over{n^{i}}}}}\\rfloor$. Note in practical cases, $i$ doesn't reach $∞$, but rather after some certain point causes floor function to keep returning $0$."
      ],
      "metadata": {
        "id": "RM64qkTQgI0P"
      }
    },
    {
      "cell_type": "markdown",
      "source": [
        "### Counting"
      ],
      "metadata": {
        "id": "1YaUiiiokc-2"
      }
    },
    {
      "cell_type": "markdown",
      "source": [
        "**Permutations**\n",
        "\n",
        "Order matters. Different elements with no repetition. Take $r$ elements every time from a list of $n$ distinct elements ($1 ≤ r ≤ n$).\n",
        "\n",
        "$\\displaystyle {n \\choose r} ={{P(n,r)}\\over{P(r, r)}}={{n!}\\over{r!(n-r)!}}$"
      ],
      "metadata": {
        "id": "wcL-7mrNkesX"
      }
    },
    {
      "cell_type": "markdown",
      "source": [
        "**Combinations**\n",
        "\n",
        "Order doesn't matter ($[a, b]$ and $[b, a]$ count only as 1).\n",
        "\n",
        "$\\displaystyle P(n,r)={{n!}\\over{(n-r)!}}$"
      ],
      "metadata": {
        "id": "RYMyIF9slxNE"
      }
    },
    {
      "cell_type": "markdown",
      "source": [
        "### Sequences"
      ],
      "metadata": {
        "id": "bAo0cy3Fg8aE"
      }
    },
    {
      "cell_type": "markdown",
      "source": [
        "Given **arithmetic** sequence: $a_1, a_2, a_3,...,a_n$\n",
        "\n",
        "$d = a_{n\\,+\\,1} - a_n$\n",
        "\n",
        "$a_n=a_1+(n-1)d$\n",
        "\n",
        "$\\displaystyle\\text{Sum}=na_1+{{(n-1)dn}\\over{2}}={{(a_1 + a_n)n}\\over{2}}$"
      ],
      "metadata": {
        "id": "tzXuOGryhJob"
      }
    },
    {
      "cell_type": "markdown",
      "source": [
        "Given **geometric** sequence: $a_1, a_2, a_3,...,a_n$\n",
        "\n",
        "$a_n = a_1\\cdot q^{n\\,-\\,1}$\n",
        "\n",
        "$\\displaystyle\\text{Sum}={{a_1(1-q^n)}\\over{1-q}}$"
      ],
      "metadata": {
        "id": "PpTRD90KiEnz"
      }
    },
    {
      "cell_type": "markdown",
      "source": [
        "## Scratch Space"
      ],
      "metadata": {
        "id": "U0OeBaepdxEa"
      }
    },
    {
      "cell_type": "code",
      "source": [
        "# For Python"
      ],
      "metadata": {
        "id": "57cGV9ABdyxH"
      },
      "execution_count": 21,
      "outputs": []
    },
    {
      "cell_type": "code",
      "source": [
        "%%file Test.java\n",
        "\n",
        "// For Java\n",
        "public class Test {\n",
        "    public static void main(String[] args) {\n",
        "        System.out.println(\"Test\");\n",
        "    }\n",
        "}"
      ],
      "metadata": {
        "colab": {
          "base_uri": "https://localhost:8080/"
        },
        "id": "M5VjMHexd0Mx",
        "outputId": "37dd8b52-9ff4-4109-b2d8-128b11bea7b4"
      },
      "execution_count": 22,
      "outputs": [
        {
          "output_type": "stream",
          "name": "stdout",
          "text": [
            "Overwriting Test.java\n"
          ]
        }
      ]
    },
    {
      "cell_type": "code",
      "source": [
        "%shell\n",
        "!java Test.java"
      ],
      "metadata": {
        "colab": {
          "base_uri": "https://localhost:8080/"
        },
        "id": "635NGBCTeNVy",
        "outputId": "aee2155e-625b-4452-c5a5-0aaadaf4b681"
      },
      "execution_count": 23,
      "outputs": [
        {
          "output_type": "stream",
          "name": "stdout",
          "text": [
            "Test\n"
          ]
        }
      ]
    }
  ]
}